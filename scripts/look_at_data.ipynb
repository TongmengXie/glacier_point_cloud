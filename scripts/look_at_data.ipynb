{
 "cells": [
  {
   "cell_type": "markdown",
   "id": "d9694587",
   "metadata": {},
   "source": [
    "# Look at data\n",
    "Load LAZ → Clean & Filter → Register Epochs → Compute Height Change → Extract Features → Create ML Dataset\n"
   ]
  },
  {
   "cell_type": "code",
   "execution_count": 27,
   "id": "907e6b87",
   "metadata": {
    "ExecuteTime": {
     "end_time": "2025-10-30T00:02:12.481535Z",
     "start_time": "2025-10-30T00:02:11.078734Z"
    },
    "scrolled": true
   },
   "outputs": [
    {
     "name": "stdout",
     "output_type": "stream",
     "text": [
      "\u001b[33mWARNING: Ignoring invalid distribution ~ympy (/opt/conda/envs/py311/lib/python3.11/site-packages)\u001b[0m\u001b[33m\n",
      "\u001b[0m\u001b[33mWARNING: Ignoring invalid distribution ~ympy (/opt/conda/envs/py311/lib/python3.11/site-packages)\u001b[0m\u001b[33m\n",
      "\u001b[0mRequirement already satisfied: laspy[laszip] in /opt/conda/envs/py311/lib/python3.11/site-packages (2.6.1)\n",
      "Requirement already satisfied: numpy in /opt/conda/envs/py311/lib/python3.11/site-packages (from laspy[laszip]) (2.1.2)\n",
      "Collecting laszip<0.3.0,>=0.2.1 (from laspy[laszip])\n",
      "  Downloading laszip-0.2.3-cp311-cp311-manylinux_2_17_x86_64.manylinux2014_x86_64.whl.metadata (2.4 kB)\n",
      "Downloading laszip-0.2.3-cp311-cp311-manylinux_2_17_x86_64.manylinux2014_x86_64.whl (312 kB)\n",
      "\u001b[33mWARNING: Ignoring invalid distribution ~ympy (/opt/conda/envs/py311/lib/python3.11/site-packages)\u001b[0m\u001b[33m\n",
      "\u001b[0mInstalling collected packages: laszip\n",
      "\u001b[33mWARNING: Ignoring invalid distribution ~ympy (/opt/conda/envs/py311/lib/python3.11/site-packages)\u001b[0m\u001b[33m\n",
      "\u001b[0mSuccessfully installed laszip-0.2.3\n",
      "\u001b[33mWARNING: Running pip as the 'root' user can result in broken permissions and conflicting behaviour with the system package manager, possibly rendering your system unusable. It is recommended to use a virtual environment instead: https://pip.pypa.io/warnings/venv. Use the --root-user-action option if you know what you are doing and want to suppress this warning.\u001b[0m\u001b[33m\n",
      "\u001b[0m\u001b[33mWARNING: Ignoring invalid distribution ~ympy (/opt/conda/envs/py311/lib/python3.11/site-packages)\u001b[0m\u001b[33m\n",
      "\u001b[0m\u001b[33mWARNING: Ignoring invalid distribution ~ympy (/opt/conda/envs/py311/lib/python3.11/site-packages)\u001b[0m\u001b[33m\n",
      "\u001b[0m\n",
      "\u001b[1m[\u001b[0m\u001b[34;49mnotice\u001b[0m\u001b[1;39;49m]\u001b[0m\u001b[39;49m A new release of pip is available: \u001b[0m\u001b[31;49m25.2\u001b[0m\u001b[39;49m -> \u001b[0m\u001b[32;49m25.3\u001b[0m\n",
      "\u001b[1m[\u001b[0m\u001b[34;49mnotice\u001b[0m\u001b[1;39;49m]\u001b[0m\u001b[39;49m To update, run: \u001b[0m\u001b[32;49m/opt/conda/envs/py311/bin/python -m pip install --upgrade pip\u001b[0m\n"
     ]
    }
   ],
   "source": [
    "import sys\n",
    "# !{sys.executable} -m pip install py4dgeo --no-cache-dir \n",
    "# !{sys.executable} -m pip install polyscope\n",
    "!{sys.executable} -m pip install 'laspy[laszip]'"
   ]
  },
  {
   "cell_type": "code",
   "execution_count": 3,
   "id": "ac0d3cec",
   "metadata": {
    "ExecuteTime": {
     "end_time": "2025-10-30T00:03:07.150021Z",
     "start_time": "2025-10-30T00:03:05.154378Z"
    }
   },
   "outputs": [],
   "source": [
    "# import required modules\n",
    "import os\n",
    "# import py4dgeo\n",
    "import numpy as np\n",
    "import matplotlib.pyplot as plt\n",
    "import matplotlib.dates as mdates\n",
    "from datetime import datetime, timedelta\n",
    "\n",
    "# add the script assets folder to the path, so that we can import the functions created there\n",
    "import sys\n",
    "from pathlib import Path\n",
    "sys.path.insert(0, str((Path.cwd() / \"..\" / \"utils\").resolve()))\n",
    "\n",
    "# import point cloud functions\n",
    "import pointcloud_functions as pcfuncs\n",
    "\n",
    "# specify the data path\n",
    "data_dir = '../raw_data/ahk'\n",
    "\n",
    "# check if the data path exists\n",
    "if not os.path.exists(data_dir):\n",
    "    raise Exception('Data path does not exist. Please make sure to specify the correct path.')\n",
    "\n",
    "# derive the file paths and read in the data\n",
    "pc_file_2020 = f'{data_dir}/ahk_2020_uls.laz'\n",
    "pc_file_2021 = f'{data_dir}/ahk_2021_uls.laz'\n",
    "\n",
    "# read the point clouds into numpy arrays\n",
    "pc_2020 = pcfuncs.read_las(pc_file_2020)\n",
    "# pc_2021 = pcfuncs.read_las(pc_file_2021)"
   ]
  },
  {
   "cell_type": "code",
   "execution_count": 4,
   "id": "d2fb331d",
   "metadata": {
    "ExecuteTime": {
     "end_time": "2025-10-30T00:03:10.284495Z",
     "start_time": "2025-10-30T00:03:10.271018Z"
    }
   },
   "outputs": [
    {
     "data": {
      "text/plain": [
       "array([[6.52611862e+05, 5.18925793e+06, 2.36141100e+03],\n",
       "       [6.52611916e+05, 5.18925803e+06, 2.36139500e+03],\n",
       "       [6.52611988e+05, 5.18925790e+06, 2.36142700e+03],\n",
       "       ...,\n",
       "       [6.53232289e+05, 5.18893597e+06, 2.63228200e+03],\n",
       "       [6.53232343e+05, 5.18893571e+06, 2.63250500e+03],\n",
       "       [6.53232314e+05, 5.18893790e+06, 2.63189700e+03]])"
      ]
     },
     "execution_count": 4,
     "metadata": {},
     "output_type": "execute_result"
    }
   ],
   "source": [
    "pc_2020"
   ]
  }
 ],
 "metadata": {
  "kernelspec": {
   "display_name": "Python py311",
   "language": "python",
   "name": "py311"
  },
  "language_info": {
   "codemirror_mode": {
    "name": "ipython",
    "version": 3
   },
   "file_extension": ".py",
   "mimetype": "text/x-python",
   "name": "python",
   "nbconvert_exporter": "python",
   "pygments_lexer": "ipython3",
   "version": "3.11.13"
  },
  "toc": {
   "base_numbering": 1,
   "nav_menu": {},
   "number_sections": true,
   "sideBar": true,
   "skip_h1_title": false,
   "title_cell": "Table of Contents",
   "title_sidebar": "Contents",
   "toc_cell": false,
   "toc_position": {},
   "toc_section_display": true,
   "toc_window_display": false
  },
  "varInspector": {
   "cols": {
    "lenName": 16,
    "lenType": 16,
    "lenVar": 40
   },
   "kernels_config": {
    "python": {
     "delete_cmd_postfix": "",
     "delete_cmd_prefix": "del ",
     "library": "var_list.py",
     "varRefreshCmd": "print(var_dic_list())"
    },
    "r": {
     "delete_cmd_postfix": ") ",
     "delete_cmd_prefix": "rm(",
     "library": "var_list.r",
     "varRefreshCmd": "cat(var_dic_list()) "
    }
   },
   "types_to_exclude": [
    "module",
    "function",
    "builtin_function_or_method",
    "instance",
    "_Feature"
   ],
   "window_display": false
  }
 },
 "nbformat": 4,
 "nbformat_minor": 5
}
