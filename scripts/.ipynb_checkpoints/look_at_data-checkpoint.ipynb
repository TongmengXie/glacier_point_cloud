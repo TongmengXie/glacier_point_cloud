{
 "cells": [
  {
   "cell_type": "markdown",
   "id": "8a07e552",
   "metadata": {},
   "source": [
    "# Look at data\n",
    "Load LAZ → Clean & Filter → Register Epochs → Compute Height Change → Extract Features → Create ML Dataset\n"
   ]
  },
  {
   "cell_type": "code",
   "execution_count": null,
   "id": "a4a116d3",
   "metadata": {
    "ExecuteTime": {
     "start_time": "2025-10-29T23:54:49.844Z"
    },
    "scrolled": true
   },
   "outputs": [
    {
     "name": "stdout",
     "output_type": "stream",
     "text": [
      "\u001b[33mWARNING: Ignoring invalid distribution ~ympy (/opt/conda/envs/py311/lib/python3.11/site-packages)\u001b[0m\u001b[33m\n",
      "\u001b[0m\u001b[33mWARNING: Ignoring invalid distribution ~ympy (/opt/conda/envs/py311/lib/python3.11/site-packages)\u001b[0m\u001b[33m\n",
      "\u001b[0m"
     ]
    }
   ],
   "source": [
    "import sys\n",
    "# !{sys.executable} -m pip install py4dgeo --no-cache-dir \n",
    "!{sys.executable} -m pip install polyscope"
   ]
  },
  {
   "cell_type": "code",
   "execution_count": 3,
   "id": "d6a24d39",
   "metadata": {
    "ExecuteTime": {
     "end_time": "2025-10-29T23:36:55.287381Z",
     "start_time": "2025-10-29T23:36:55.242945Z"
    }
   },
   "outputs": [
    {
     "ename": "ModuleNotFoundError",
     "evalue": "No module named 'py4dgeo'",
     "output_type": "error",
     "traceback": [
      "\u001b[31m---------------------------------------------------------------------------\u001b[39m",
      "\u001b[31mModuleNotFoundError\u001b[39m                       Traceback (most recent call last)",
      "\u001b[36mCell\u001b[39m\u001b[36m \u001b[39m\u001b[32mIn[3]\u001b[39m\u001b[32m, line 3\u001b[39m\n\u001b[32m      1\u001b[39m \u001b[38;5;66;03m# import required modules\u001b[39;00m\n\u001b[32m      2\u001b[39m \u001b[38;5;28;01mimport\u001b[39;00m\u001b[38;5;250m \u001b[39m\u001b[34;01mos\u001b[39;00m\n\u001b[32m----> \u001b[39m\u001b[32m3\u001b[39m \u001b[38;5;28;01mimport\u001b[39;00m\u001b[38;5;250m \u001b[39m\u001b[34;01mpy4dgeo\u001b[39;00m\n\u001b[32m      4\u001b[39m \u001b[38;5;28;01mimport\u001b[39;00m\u001b[38;5;250m \u001b[39m\u001b[34;01mnumpy\u001b[39;00m\u001b[38;5;250m \u001b[39m\u001b[38;5;28;01mas\u001b[39;00m\u001b[38;5;250m \u001b[39m\u001b[34;01mnp\u001b[39;00m\n\u001b[32m      5\u001b[39m \u001b[38;5;28;01mimport\u001b[39;00m\u001b[38;5;250m \u001b[39m\u001b[34;01mmatplotlib\u001b[39;00m\u001b[34;01m.\u001b[39;00m\u001b[34;01mpyplot\u001b[39;00m\u001b[38;5;250m \u001b[39m\u001b[38;5;28;01mas\u001b[39;00m\u001b[38;5;250m \u001b[39m\u001b[34;01mplt\u001b[39;00m\n",
      "\u001b[31mModuleNotFoundError\u001b[39m: No module named 'py4dgeo'"
     ]
    }
   ],
   "source": [
    "# import required modules\n",
    "import os\n",
    "import py4dgeo\n",
    "import numpy as np\n",
    "import matplotlib.pyplot as plt\n",
    "import matplotlib.dates as mdates\n",
    "from datetime import datetime, timedelta\n",
    "\n",
    "# add the script assets folder to the path, so that we can import the functions created there\n",
    "import sys\n",
    "from pathlib import Path\n",
    "# sys.path.insert(0, str((Path.cwd() / \"..\" / \"..\" / \"assets\" / \"python_functions\").resolve()))\n",
    "\n",
    "# import point cloud functions\n",
    "import pointcloud_functions as pcfuncs\n",
    "\n",
    "# specify the data path\n",
    "data_dir = '../raw_data'\n",
    "\n",
    "# check if the data path exists\n",
    "if not os.path.exists(data_dir):\n",
    "    raise Exception('Data path does not exist. Please make sure to specify the correct path.')\n",
    "\n",
    "# derive the file paths and read in the data\n",
    "pc_file_2020 = f'{data_dir}/ahk_2020_uls.laz'\n",
    "pc_file_2021 = f'{data_dir}/ahk_2021_uls.laz'\n",
    "\n",
    "# read the point clouds into numpy arrays\n",
    "#pc_2020 = pcfuncs.read_las(pc_file_2020)\n",
    "#pc_2021 = pcfuncs.read_las(pc_file_2021)"
   ]
  },
  {
   "cell_type": "code",
   "execution_count": 6,
   "id": "905c891a",
   "metadata": {
    "ExecuteTime": {
     "end_time": "2025-10-29T23:54:24.561828Z",
     "start_time": "2025-10-29T23:54:24.518154Z"
    }
   },
   "outputs": [
    {
     "ename": "ModuleNotFoundError",
     "evalue": "No module named 'polyscope'",
     "output_type": "error",
     "traceback": [
      "\u001b[31m---------------------------------------------------------------------------\u001b[39m",
      "\u001b[31mModuleNotFoundError\u001b[39m                       Traceback (most recent call last)",
      "\u001b[36mCell\u001b[39m\u001b[36m \u001b[39m\u001b[32mIn[6]\u001b[39m\u001b[32m, line 1\u001b[39m\n\u001b[32m----> \u001b[39m\u001b[32m1\u001b[39m \u001b[38;5;28;01mimport\u001b[39;00m\u001b[38;5;250m \u001b[39m\u001b[34;01mpolyscope\u001b[39;00m\u001b[38;5;250m \u001b[39m\u001b[38;5;28;01mas\u001b[39;00m\u001b[38;5;250m \u001b[39m\u001b[34;01mps\u001b[39;00m\n\u001b[32m      2\u001b[39m \u001b[38;5;28;01mimport\u001b[39;00m\u001b[38;5;250m \u001b[39m\u001b[34;01mnumpy\u001b[39;00m\u001b[38;5;250m \u001b[39m\u001b[38;5;28;01mas\u001b[39;00m\u001b[38;5;250m \u001b[39m\u001b[34;01mnp\u001b[39;00m\n\u001b[32m      4\u001b[39m \u001b[38;5;66;03m# add the script assets folder to the path, so that we can import the functions created there\u001b[39;00m\n",
      "\u001b[31mModuleNotFoundError\u001b[39m: No module named 'polyscope'"
     ]
    }
   ],
   "source": [
    "import polyscope as ps\n",
    "import numpy as np\n",
    "\n",
    "# add the script assets folder to the path, so that we can import the functions created there\n",
    "import sys\n",
    "from pathlib import Path\n",
    "# sys.path.insert(0, str((Path.cwd() / \"..\" / \"..\" / \"assets\" / \"python_functions\").resolve()))\n",
    "\n",
    "# import point cloud functions\n",
    "import pointcloud_functions as pcfuncs\n",
    "\n",
    "DATA_PATH = '../raw_data'\n",
    "\n",
    "# check if the specified data path exists\n",
    "import os\n",
    "if not os.path.isdir(DATA_PATH):\n",
    "    print(f'ERROR: {DATA_PATH} does not exist')\n",
    "    print('Please specify the correct path to the data directory by replacing  above.')\n",
    "\n",
    "# read data, but only every 100th point (for quick visualisation)\n",
    "data_2009 = pcfuncs.read_las(DATA_PATH + \"/hellstugubrean_2009.las\", use_every=100, get_attributes=True)\n",
    "data_2017 = pcfuncs.read_las(DATA_PATH + \"/hellstugubrean_2017.las\", use_every=100, get_attributes=True)"
   ]
  }
 ],
 "metadata": {
  "kernelspec": {
   "display_name": "Python py311",
   "language": "python",
   "name": "py311"
  },
  "language_info": {
   "codemirror_mode": {
    "name": "ipython",
    "version": 3
   },
   "file_extension": ".py",
   "mimetype": "text/x-python",
   "name": "python",
   "nbconvert_exporter": "python",
   "pygments_lexer": "ipython3",
   "version": "3.11.13"
  },
  "toc": {
   "base_numbering": 1,
   "nav_menu": {},
   "number_sections": true,
   "sideBar": true,
   "skip_h1_title": false,
   "title_cell": "Table of Contents",
   "title_sidebar": "Contents",
   "toc_cell": false,
   "toc_position": {},
   "toc_section_display": true,
   "toc_window_display": false
  },
  "varInspector": {
   "cols": {
    "lenName": 16,
    "lenType": 16,
    "lenVar": 40
   },
   "kernels_config": {
    "python": {
     "delete_cmd_postfix": "",
     "delete_cmd_prefix": "del ",
     "library": "var_list.py",
     "varRefreshCmd": "print(var_dic_list())"
    },
    "r": {
     "delete_cmd_postfix": ") ",
     "delete_cmd_prefix": "rm(",
     "library": "var_list.r",
     "varRefreshCmd": "cat(var_dic_list()) "
    }
   },
   "types_to_exclude": [
    "module",
    "function",
    "builtin_function_or_method",
    "instance",
    "_Feature"
   ],
   "window_display": false
  }
 },
 "nbformat": 4,
 "nbformat_minor": 5
}
