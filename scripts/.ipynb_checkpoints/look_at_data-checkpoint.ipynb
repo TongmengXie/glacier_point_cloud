{
 "cells": [
  {
   "cell_type": "markdown",
   "id": "05c51a11",
   "metadata": {},
   "source": [
    "# Look at data\n",
    "Load LAZ → Clean & Filter → Register Epochs → Compute Height Change → Extract Features → Create ML Dataset\n"
   ]
  },
  {
   "cell_type": "code",
   "execution_count": 2,
   "id": "00d16b3e",
   "metadata": {
    "ExecuteTime": {
     "end_time": "2025-10-29T23:34:14.979302Z",
     "start_time": "2025-10-29T23:34:13.492602Z"
    }
   },
   "outputs": [
    {
     "name": "stdout",
     "output_type": "stream",
     "text": [
      "\u001b[33mWARNING: Ignoring invalid distribution ~ympy (/opt/conda/envs/py311/lib/python3.11/site-packages)\u001b[0m\u001b[33m\n",
      "\u001b[0m\u001b[33mWARNING: Ignoring invalid distribution ~ympy (/opt/conda/envs/py311/lib/python3.11/site-packages)\u001b[0m\u001b[33m\n",
      "\u001b[0mCollecting laspy\n",
      "  Downloading laspy-2.6.1-py3-none-any.whl.metadata (3.8 kB)\n",
      "Requirement already satisfied: numpy in /opt/conda/envs/py311/lib/python3.11/site-packages (from laspy) (2.1.2)\n",
      "Downloading laspy-2.6.1-py3-none-any.whl (86 kB)\n",
      "\u001b[33mWARNING: Ignoring invalid distribution ~ympy (/opt/conda/envs/py311/lib/python3.11/site-packages)\u001b[0m\u001b[33m\n",
      "\u001b[0mInstalling collected packages: laspy\n",
      "\u001b[33mWARNING: Ignoring invalid distribution ~ympy (/opt/conda/envs/py311/lib/python3.11/site-packages)\u001b[0m\u001b[33m\n",
      "\u001b[0mSuccessfully installed laspy-2.6.1\n",
      "\u001b[33mWARNING: Running pip as the 'root' user can result in broken permissions and conflicting behaviour with the system package manager, possibly rendering your system unusable. It is recommended to use a virtual environment instead: https://pip.pypa.io/warnings/venv. Use the --root-user-action option if you know what you are doing and want to suppress this warning.\u001b[0m\u001b[33m\n",
      "\u001b[0m\u001b[33mWARNING: Ignoring invalid distribution ~ympy (/opt/conda/envs/py311/lib/python3.11/site-packages)\u001b[0m\u001b[33m\n",
      "\u001b[0m\u001b[33mWARNING: Ignoring invalid distribution ~ympy (/opt/conda/envs/py311/lib/python3.11/site-packages)\u001b[0m\u001b[33m\n",
      "\u001b[0m\n",
      "\u001b[1m[\u001b[0m\u001b[34;49mnotice\u001b[0m\u001b[1;39;49m]\u001b[0m\u001b[39;49m A new release of pip is available: \u001b[0m\u001b[31;49m25.2\u001b[0m\u001b[39;49m -> \u001b[0m\u001b[32;49m25.3\u001b[0m\n",
      "\u001b[1m[\u001b[0m\u001b[34;49mnotice\u001b[0m\u001b[1;39;49m]\u001b[0m\u001b[39;49m To update, run: \u001b[0m\u001b[32;49m/opt/conda/envs/py311/bin/python -m pip install --upgrade pip\u001b[0m\n"
     ]
    }
   ],
   "source": [
    "import sys\n",
    "!{sys.executable} -m pip install laspy"
   ]
  },
  {
   "cell_type": "code",
   "execution_count": 3,
   "id": "d8e4e87a",
   "metadata": {
    "ExecuteTime": {
     "end_time": "2025-10-29T23:34:22.494065Z",
     "start_time": "2025-10-29T23:34:22.322941Z"
    }
   },
   "outputs": [
    {
     "ename": "FileNotFoundError",
     "evalue": "[Errno 2] No such file or directory: '../raw_data/ahk/ahk_2020_uls.laz'",
     "output_type": "error",
     "traceback": [
      "\u001b[31m---------------------------------------------------------------------------\u001b[39m",
      "\u001b[31mFileNotFoundError\u001b[39m                         Traceback (most recent call last)",
      "\u001b[36mCell\u001b[39m\u001b[36m \u001b[39m\u001b[32mIn[3]\u001b[39m\u001b[32m, line 4\u001b[39m\n\u001b[32m      1\u001b[39m \u001b[38;5;28;01mimport\u001b[39;00m\u001b[38;5;250m \u001b[39m\u001b[34;01mlaspy\u001b[39;00m\n\u001b[32m      2\u001b[39m \u001b[38;5;28;01mimport\u001b[39;00m\u001b[38;5;250m \u001b[39m\u001b[34;01mnumpy\u001b[39;00m\u001b[38;5;250m \u001b[39m\u001b[38;5;28;01mas\u001b[39;00m\u001b[38;5;250m \u001b[39m\u001b[34;01mnp\u001b[39;00m\n\u001b[32m----> \u001b[39m\u001b[32m4\u001b[39m las2020 = laspy.read(\u001b[33m\"\u001b[39m\u001b[33m../raw_data/ahk/ahk_2020_uls.laz\u001b[39m\u001b[33m\"\u001b[39m)\n\u001b[32m      5\u001b[39m las2021 = laspy.read(\u001b[33m\"\u001b[39m\u001b[33m../raw_data/ahk/ahk_2021_uls.laz\u001b[39m\u001b[33m\"\u001b[39m)\n\u001b[32m      7\u001b[39m \u001b[38;5;28mprint\u001b[39m(las2020.header)\n",
      "\u001b[36mFile \u001b[39m\u001b[32m/opt/conda/envs/py311/lib/python3.11/site-packages/laspy/lib.py:258\u001b[39m, in \u001b[36mread_las\u001b[39m\u001b[34m(source, closefd, laz_backend, decompression_selection, encoding_errors)\u001b[39m\n\u001b[32m    209\u001b[39m \u001b[38;5;28;01mdef\u001b[39;00m\u001b[38;5;250m \u001b[39m\u001b[34mread_las\u001b[39m(\n\u001b[32m    210\u001b[39m     source,\n\u001b[32m    211\u001b[39m     closefd=\u001b[38;5;28;01mTrue\u001b[39;00m,\n\u001b[32m   (...)\u001b[39m\u001b[32m    214\u001b[39m     encoding_errors: \u001b[38;5;28mstr\u001b[39m = \u001b[33m\"\u001b[39m\u001b[33mstrict\u001b[39m\u001b[33m\"\u001b[39m,\n\u001b[32m    215\u001b[39m ):\n\u001b[32m    216\u001b[39m \u001b[38;5;250m    \u001b[39m\u001b[33;03m\"\"\"Entry point for reading las data in laspy\u001b[39;00m\n\u001b[32m    217\u001b[39m \n\u001b[32m    218\u001b[39m \u001b[33;03m    Reads the whole file into memory.\u001b[39;00m\n\u001b[32m   (...)\u001b[39m\u001b[32m    256\u001b[39m \u001b[33;03m        The ``encoding_errors`` parameter.\u001b[39;00m\n\u001b[32m    257\u001b[39m \u001b[33;03m    \"\"\"\u001b[39;00m\n\u001b[32m--> \u001b[39m\u001b[32m258\u001b[39m     \u001b[38;5;28;01mwith\u001b[39;00m open_las(\n\u001b[32m    259\u001b[39m         source,\n\u001b[32m    260\u001b[39m         closefd=closefd,\n\u001b[32m    261\u001b[39m         laz_backend=laz_backend,\n\u001b[32m    262\u001b[39m         decompression_selection=decompression_selection,\n\u001b[32m    263\u001b[39m         encoding_errors=encoding_errors,\n\u001b[32m    264\u001b[39m     ) \u001b[38;5;28;01mas\u001b[39;00m reader:\n\u001b[32m    265\u001b[39m         \u001b[38;5;28;01mreturn\u001b[39;00m reader.read()\n",
      "\u001b[36mFile \u001b[39m\u001b[32m/opt/conda/envs/py311/lib/python3.11/site-packages/laspy/lib.py:142\u001b[39m, in \u001b[36mopen_las\u001b[39m\u001b[34m(source, mode, closefd, laz_backend, header, do_compress, encoding_errors, read_evlrs, decompression_selection)\u001b[39m\n\u001b[32m    137\u001b[39m     \u001b[38;5;28;01mraise\u001b[39;00m LaspyException(\n\u001b[32m    138\u001b[39m         \u001b[33m\"\u001b[39m\u001b[33mdo_compress argument is not used when opening in read mode, \u001b[39m\u001b[33m\"\u001b[39m\n\u001b[32m    139\u001b[39m         \u001b[33m\"\u001b[39m\u001b[33mdid you meant to open in write mode ?\u001b[39m\u001b[33m\"\u001b[39m\n\u001b[32m    140\u001b[39m     )\n\u001b[32m    141\u001b[39m \u001b[38;5;28;01mif\u001b[39;00m \u001b[38;5;28misinstance\u001b[39m(source, (\u001b[38;5;28mstr\u001b[39m, Path)):\n\u001b[32m--> \u001b[39m\u001b[32m142\u001b[39m     stream = \u001b[38;5;28mopen\u001b[39m(source, mode=\u001b[33m\"\u001b[39m\u001b[33mrb\u001b[39m\u001b[33m\"\u001b[39m, closefd=closefd)\n\u001b[32m    143\u001b[39m \u001b[38;5;28;01melif\u001b[39;00m \u001b[38;5;28misinstance\u001b[39m(source, \u001b[38;5;28mbytes\u001b[39m):\n\u001b[32m    144\u001b[39m     stream = io.BytesIO(source)\n",
      "\u001b[31mFileNotFoundError\u001b[39m: [Errno 2] No such file or directory: '../raw_data/ahk/ahk_2020_uls.laz'"
     ]
    }
   ],
   "source": [
    "import laspy\n",
    "import numpy as np\n",
    "\n",
    "las2020 = laspy.read(\"../raw_data/ahk/ahk_2020_uls.laz\")\n",
    "las2021 = laspy.read(\"../raw_data/ahk/ahk_2021_uls.laz\")\n",
    "\n",
    "print(las2020.header)\n",
    "print(las2021.header)\n"
   ]
  }
 ],
 "metadata": {
  "kernelspec": {
   "display_name": "Python py311",
   "language": "python",
   "name": "py311"
  },
  "language_info": {
   "codemirror_mode": {
    "name": "ipython",
    "version": 3
   },
   "file_extension": ".py",
   "mimetype": "text/x-python",
   "name": "python",
   "nbconvert_exporter": "python",
   "pygments_lexer": "ipython3",
   "version": "3.11.13"
  },
  "toc": {
   "base_numbering": 1,
   "nav_menu": {},
   "number_sections": true,
   "sideBar": true,
   "skip_h1_title": false,
   "title_cell": "Table of Contents",
   "title_sidebar": "Contents",
   "toc_cell": false,
   "toc_position": {},
   "toc_section_display": true,
   "toc_window_display": false
  },
  "varInspector": {
   "cols": {
    "lenName": 16,
    "lenType": 16,
    "lenVar": 40
   },
   "kernels_config": {
    "python": {
     "delete_cmd_postfix": "",
     "delete_cmd_prefix": "del ",
     "library": "var_list.py",
     "varRefreshCmd": "print(var_dic_list())"
    },
    "r": {
     "delete_cmd_postfix": ") ",
     "delete_cmd_prefix": "rm(",
     "library": "var_list.r",
     "varRefreshCmd": "cat(var_dic_list()) "
    }
   },
   "types_to_exclude": [
    "module",
    "function",
    "builtin_function_or_method",
    "instance",
    "_Feature"
   ],
   "window_display": false
  }
 },
 "nbformat": 4,
 "nbformat_minor": 5
}
