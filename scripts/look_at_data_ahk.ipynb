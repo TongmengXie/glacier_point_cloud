{
 "cells": [
  {
   "cell_type": "markdown",
   "id": "d890435f",
   "metadata": {},
   "source": [
    "# Look at data\n",
    "Load LAZ → Clean & Filter → Register Epochs → Compute Height Change → Extract Features → Create ML Dataset\n"
   ]
  },
  {
   "cell_type": "code",
   "execution_count": 29,
   "id": "e05c7444",
   "metadata": {
    "ExecuteTime": {
     "end_time": "2025-10-30T00:26:46.901867Z",
     "start_time": "2025-10-30T00:26:38.357595Z"
    },
    "scrolled": true
   },
   "outputs": [
    {
     "name": "stdout",
     "output_type": "stream",
     "text": [
      "\u001b[33mWARNING: Ignoring invalid distribution ~ympy (/opt/conda/envs/py311/lib/python3.11/site-packages)\u001b[0m\u001b[33m\n",
      "\u001b[0m\u001b[33mWARNING: Ignoring invalid distribution ~ympy (/opt/conda/envs/py311/lib/python3.11/site-packages)\u001b[0m\u001b[33m\n",
      "\u001b[0mCollecting pdal\n",
      "  Downloading pdal-3.5.3.tar.gz (113 kB)\n",
      "  Installing build dependencies ... \u001b[?25lerror\n",
      "  \u001b[1;31merror\u001b[0m: \u001b[1msubprocess-exited-with-error\u001b[0m\n",
      "  \n",
      "  \u001b[31m×\u001b[0m \u001b[32minstalling build dependencies for pdal\u001b[0m did not run successfully.\n",
      "  \u001b[31m│\u001b[0m exit code: \u001b[1;36m1\u001b[0m\n",
      "  \u001b[31m╰─>\u001b[0m \u001b[31m[45 lines of output]\u001b[0m\n",
      "  \u001b[31m   \u001b[0m \u001b[33mWARNING: Ignoring invalid distribution ~ympy (/opt/conda/envs/py311/lib/python3.11/site-packages)\u001b[0m\u001b[33m\n",
      "  \u001b[31m   \u001b[0m \u001b[0mCollecting scikit-build-core>=0.9\n",
      "  \u001b[31m   \u001b[0m   Using cached scikit_build_core-0.11.6-py3-none-any.whl.metadata (18 kB)\n",
      "  \u001b[31m   \u001b[0m Collecting numpy>=1.22\n",
      "  \u001b[31m   \u001b[0m   Using cached numpy-2.3.4.tar.gz (20.6 MB)\n",
      "  \u001b[31m   \u001b[0m   Installing build dependencies: started\n",
      "  \u001b[31m   \u001b[0m   Installing build dependencies: finished with status 'done'\n",
      "  \u001b[31m   \u001b[0m   Getting requirements to build wheel: started\n",
      "  \u001b[31m   \u001b[0m   Getting requirements to build wheel: finished with status 'done'\n",
      "  \u001b[31m   \u001b[0m   Preparing metadata (pyproject.toml): started\n",
      "  \u001b[31m   \u001b[0m   Preparing metadata (pyproject.toml): finished with status 'error'\n",
      "  \u001b[31m   \u001b[0m   \u001b[1;31merror\u001b[0m: \u001b[1msubprocess-exited-with-error\u001b[0m\n",
      "  \u001b[31m   \u001b[0m \n",
      "  \u001b[31m   \u001b[0m   \u001b[31m×\u001b[0m \u001b[32mPreparing metadata \u001b[0m\u001b[1;32m(\u001b[0m\u001b[32mpyproject.toml\u001b[0m\u001b[1;32m)\u001b[0m did not run successfully.\n",
      "  \u001b[31m   \u001b[0m   \u001b[31m│\u001b[0m exit code: \u001b[1;36m1\u001b[0m\n",
      "  \u001b[31m   \u001b[0m   \u001b[31m╰─>\u001b[0m \u001b[31m[19 lines of output]\u001b[0m\n",
      "  \u001b[31m   \u001b[0m   \u001b[31m   \u001b[0m \u001b[36m\u001b[1m+ /opt/conda/envs/py311/bin/python /tmp/pip-install-h9z_xqlz/numpy_244f631e57524841a793a242fb7203ca/vendored-meson/meson/meson.py setup /tmp/pip-install-h9z_xqlz/numpy_244f631e57524841a793a242fb7203ca /tmp/pip-install-h9z_xqlz/numpy_244f631e57524841a793a242fb7203ca/.mesonpy-owb1lxw4 -Dbuildtype=release -Db_ndebug=if-release -Db_vscrt=md --native-file=/tmp/pip-install-h9z_xqlz/numpy_244f631e57524841a793a242fb7203ca/.mesonpy-owb1lxw4/meson-python-native-file.ini\u001b[0m\n",
      "  \u001b[31m   \u001b[0m   \u001b[31m   \u001b[0m The Meson build system\n",
      "  \u001b[31m   \u001b[0m   \u001b[31m   \u001b[0m Version: 1.8.3\n",
      "  \u001b[31m   \u001b[0m   \u001b[31m   \u001b[0m Source dir: /tmp/pip-install-h9z_xqlz/numpy_244f631e57524841a793a242fb7203ca\n",
      "  \u001b[31m   \u001b[0m   \u001b[31m   \u001b[0m Build dir: /tmp/pip-install-h9z_xqlz/numpy_244f631e57524841a793a242fb7203ca/.mesonpy-owb1lxw4\n",
      "  \u001b[31m   \u001b[0m   \u001b[31m   \u001b[0m Build type: native build\n",
      "  \u001b[31m   \u001b[0m   \u001b[31m   \u001b[0m Project name: NumPy\n",
      "  \u001b[31m   \u001b[0m   \u001b[31m   \u001b[0m Project version: 2.3.4\n",
      "  \u001b[31m   \u001b[0m   \u001b[31m   \u001b[0m C compiler for the host machine: cc (gcc 5.4.0 \"cc (Ubuntu 5.4.0-6ubuntu1~16.04.11) 5.4.0 20160609\")\n",
      "  \u001b[31m   \u001b[0m   \u001b[31m   \u001b[0m C linker for the host machine: cc ld.bfd 2.26.1\n",
      "  \u001b[31m   \u001b[0m   \u001b[31m   \u001b[0m C++ compiler for the host machine: c++ (gcc 5.4.0 \"c++ (Ubuntu 5.4.0-6ubuntu1~16.04.11) 5.4.0 20160609\")\n",
      "  \u001b[31m   \u001b[0m   \u001b[31m   \u001b[0m C++ linker for the host machine: c++ ld.bfd 2.26.1\n",
      "  \u001b[31m   \u001b[0m   \u001b[31m   \u001b[0m Cython compiler for the host machine: cython (cython 3.1.6)\n",
      "  \u001b[31m   \u001b[0m   \u001b[31m   \u001b[0m Host machine cpu family: x86_64\n",
      "  \u001b[31m   \u001b[0m   \u001b[31m   \u001b[0m Host machine cpu: x86_64\n",
      "  \u001b[31m   \u001b[0m   \u001b[31m   \u001b[0m\n",
      "  \u001b[31m   \u001b[0m   \u001b[31m   \u001b[0m ../meson.build:28:4: ERROR: Problem encountered: NumPy requires GCC >= 9.3\n",
      "  \u001b[31m   \u001b[0m   \u001b[31m   \u001b[0m\n",
      "  \u001b[31m   \u001b[0m   \u001b[31m   \u001b[0m A full log can be found at /tmp/pip-install-h9z_xqlz/numpy_244f631e57524841a793a242fb7203ca/.mesonpy-owb1lxw4/meson-logs/meson-log.txt\n",
      "  \u001b[31m   \u001b[0m   \u001b[31m   \u001b[0m \u001b[31m[end of output]\u001b[0m\n",
      "  \u001b[31m   \u001b[0m \n",
      "  \u001b[31m   \u001b[0m   \u001b[1;35mnote\u001b[0m: This error originates from a subprocess, and is likely not a problem with pip.\n",
      "  \u001b[31m   \u001b[0m \u001b[1;31merror\u001b[0m: \u001b[1mmetadata-generation-failed\u001b[0m\n",
      "  \u001b[31m   \u001b[0m \n",
      "  \u001b[31m   \u001b[0m \u001b[31m×\u001b[0m Encountered error while generating package metadata.\n",
      "  \u001b[31m   \u001b[0m \u001b[31m╰─>\u001b[0m numpy\n",
      "  \u001b[31m   \u001b[0m \n",
      "  \u001b[31m   \u001b[0m \u001b[1;35mnote\u001b[0m: This is an issue with the package mentioned above, not pip.\n",
      "  \u001b[31m   \u001b[0m \u001b[1;36mhint\u001b[0m: See above for details.\n",
      "  \u001b[31m   \u001b[0m \u001b[31m[end of output]\u001b[0m\n",
      "  \n",
      "  \u001b[1;35mnote\u001b[0m: This error originates from a subprocess, and is likely not a problem with pip.\n",
      "\u001b[33mWARNING: Ignoring invalid distribution ~ympy (/opt/conda/envs/py311/lib/python3.11/site-packages)\u001b[0m\u001b[33m\n",
      "\u001b[0m\u001b[33mWARNING: Ignoring invalid distribution ~ympy (/opt/conda/envs/py311/lib/python3.11/site-packages)\u001b[0m\u001b[33m\n",
      "\u001b[0m\u001b[31mERROR: Failed to build 'pdal' when installing build dependencies for pdal\u001b[0m\u001b[31m\n",
      "\u001b[0m\u001b[?25h"
     ]
    }
   ],
   "source": [
    "import sys\n",
    "# !{sys.executable} -m pip install py4dgeo --no-cache-dir \n",
    "# !{sys.executable} -m pip install polyscope\n",
    "# !{sys.executable} -m pip install 'laspy[laszip]'\n",
    "# !{sys.executable} -m pip install pyproj==3.6.1 geopandas open3d \n",
    "# !{sys.executable} -m pip install 'laspy[laszip]'\n",
    "# !{sys.executable} -m pip install --upgrade pip setuptools wheel\n",
    "!{sys.executable} -m pip install pdal"
   ]
  },
  {
   "cell_type": "code",
   "execution_count": 5,
   "id": "b97ad291",
   "metadata": {
    "ExecuteTime": {
     "end_time": "2025-10-30T00:10:24.131013Z",
     "start_time": "2025-10-30T00:10:19.079713Z"
    }
   },
   "outputs": [],
   "source": [
    "# # import required modules\n",
    "# import os\n",
    "# # import py4dgeo\n",
    "# import numpy as np\n",
    "# import matplotlib.pyplot as plt\n",
    "# import matplotlib.dates as mdates\n",
    "# from datetime import datetime, timedelta\n",
    "\n",
    "# # add the script assets folder to the path, so that we can import the functions created there\n",
    "# import sys\n",
    "# from pathlib import Path\n",
    "# sys.path.insert(0, str((Path.cwd() / \"..\" / \"utils\").resolve()))\n",
    "\n",
    "# # import point cloud functions\n",
    "# import pointcloud_functions as pcfuncs\n",
    "\n",
    "# # specify the data path\n",
    "# data_dir = '../raw_data/ahk'\n",
    "\n",
    "# # check if the data path exists\n",
    "# if not os.path.exists(data_dir):\n",
    "#     raise Exception('Data path does not exist. Please make sure to specify the correct path.')\n",
    "\n",
    "# # derive the file paths and read in the data\n",
    "# pc_file_2020 = f'{data_dir}/ahk_2020_uls.laz'\n",
    "# pc_file_2021 = f'{data_dir}/ahk_2021_uls.laz'\n",
    "\n",
    "# # read the point clouds into numpy arrays\n",
    "# pc_2020 = pcfuncs.read_las(pc_file_2020)\n",
    "# pc_2021 = pcfuncs.read_las(pc_file_2021)"
   ]
  },
  {
   "cell_type": "code",
   "execution_count": 8,
   "id": "948da806",
   "metadata": {
    "ExecuteTime": {
     "end_time": "2025-10-30T00:10:37.923180Z",
     "start_time": "2025-10-30T00:10:37.912609Z"
    }
   },
   "outputs": [
    {
     "data": {
      "text/plain": [
       "array([[6.52793855e+05, 5.18879120e+06, 2.61195270e+03],\n",
       "       [6.52793855e+05, 5.18879132e+06, 2.61194870e+03],\n",
       "       [6.52793761e+05, 5.18879146e+06, 2.61185260e+03],\n",
       "       ...,\n",
       "       [6.52929120e+05, 5.18943189e+06, 2.39848610e+03],\n",
       "       [6.52929069e+05, 5.18943141e+06, 2.39876260e+03],\n",
       "       [6.52929410e+05, 5.18943127e+06, 2.39874820e+03]])"
      ]
     },
     "execution_count": 8,
     "metadata": {},
     "output_type": "execute_result"
    }
   ],
   "source": [
    "# pc_2021"
   ]
  },
  {
   "cell_type": "code",
   "execution_count": 7,
   "id": "12c08ce3",
   "metadata": {
    "ExecuteTime": {
     "end_time": "2025-10-30T00:10:30.871598Z",
     "start_time": "2025-10-30T00:10:30.862117Z"
    }
   },
   "outputs": [
    {
     "data": {
      "text/plain": [
       "((37426631, 3), (45662285, 3))"
      ]
     },
     "execution_count": 7,
     "metadata": {},
     "output_type": "execute_result"
    }
   ],
   "source": [
    "# pc_2020.shape, pc_2021.shape"
   ]
  },
  {
   "cell_type": "code",
   "execution_count": 24,
   "id": "cd85f656",
   "metadata": {
    "ExecuteTime": {
     "end_time": "2025-10-30T00:23:35.334536Z",
     "start_time": "2025-10-30T00:23:34.079294Z"
    }
   },
   "outputs": [
    {
     "ename": "NameError",
     "evalue": "name 'o3d' is not defined",
     "output_type": "error",
     "traceback": [
      "\u001b[31m---------------------------------------------------------------------------\u001b[39m",
      "\u001b[31mNameError\u001b[39m                                 Traceback (most recent call last)",
      "\u001b[36mCell\u001b[39m\u001b[36m \u001b[39m\u001b[32mIn[24]\u001b[39m\u001b[32m, line 27\u001b[39m\n\u001b[32m     22\u001b[39m pts2020 = np.vstack([las2020.x, las2020.y, las2020.z]).T \n\u001b[32m     23\u001b[39m \u001b[38;5;66;03m# mask = [stable_area.contains(Point(x, y)).any() for x, y in zip(las2020.x, las2020.y)]\u001b[39;00m\n\u001b[32m     24\u001b[39m \n\u001b[32m     25\u001b[39m \n\u001b[32m     26\u001b[39m \u001b[38;5;66;03m# Registration (Align Epochs)\u001b[39;00m\n\u001b[32m---> \u001b[39m\u001b[32m27\u001b[39m pcd_2020 = o3d.io.read_point_cloud(\u001b[33m\"\u001b[39m\u001b[33mahk_2020_uls.laz\u001b[39m\u001b[33m\"\u001b[39m)\n\u001b[32m     28\u001b[39m pcd_2021 = o3d.io.read_point_cloud(\u001b[33m\"\u001b[39m\u001b[33mahk_2021_uls.laz\u001b[39m\u001b[33m\"\u001b[39m)\n\u001b[32m     30\u001b[39m \u001b[38;5;66;03m# Perform ICP to align 2020 → 2021\u001b[39;00m\n",
      "\u001b[31mNameError\u001b[39m: name 'o3d' is not defined"
     ]
    }
   ],
   "source": [
    "import laspy\n",
    "import numpy as np\n",
    "import geopandas as gpd\n",
    "from shapely.geometry import Point\n",
    "import open3d as o3d\n",
    "\n",
    "data_dir = '../raw_data/ahk'\n",
    "pc_file_2020 = f'{data_dir}/ahk_2020_uls.laz'\n",
    "pc_file_2021 = f'{data_dir}/ahk_2021_uls.laz'\n",
    "\n",
    "# Load and Inspect Point Clouds\n",
    "las2020 = laspy.read(pc_file_2020)\n",
    "las2021 = laspy.read(pc_file_2021)\n",
    "print(las2020.header)\n",
    "print(las2021.header)\n",
    "\n",
    "# Clip to Stable Parts (Using SHP)\n",
    "stable_area = gpd.read_file(f\"{data_dir}/ahk_2021_uls_stableparts.shp\")\n",
    "stable_area = stable_area.set_crs(\"EPSG:32632\") # is missing in shp package; according to https://3dgeo-heidelberg.github.io/etrainee/data_usecases/usecase_rockglacier_ahk.html\n",
    "\n",
    "# Filter points within the stable polygon\n",
    "pts2020 = np.vstack([las2020.x, las2020.y, las2020.z]).T \n",
    "# mask = [stable_area.contains(Point(x, y)).any() for x, y in zip(las2020.x, las2020.y)]\n",
    "\n",
    "\n",
    "# Registration (Align Epochs)\n",
    "pcd_2020 = o3d.io.read_point_cloud(\"ahk_2020_uls.laz\")\n",
    "pcd_2021 = o3d.io.read_point_cloud(\"ahk_2021_uls.laz\")\n",
    "\n",
    "# Perform ICP to align 2020 → 2021\n",
    "reg = o3d.pipelines.registration.registration_icp(\n",
    "    pcd_2020, pcd_2021, 0.5, np.eye(4),\n",
    "    o3d.pipelines.registration.TransformationEstimationPointToPlane()\n",
    ")\n",
    "pcd_2020.transform(reg.transformation)\n"
   ]
  },
  {
   "cell_type": "code",
   "execution_count": 12,
   "id": "42eb3429",
   "metadata": {
    "ExecuteTime": {
     "end_time": "2025-10-30T00:11:33.064026Z",
     "start_time": "2025-10-30T00:11:33.053927Z"
    }
   },
   "outputs": [
    {
     "data": {
      "text/plain": [
       "<LasHeader(1.1, <PointFormat(1, 0 bytes of extra dims)>)>"
      ]
     },
     "execution_count": 12,
     "metadata": {},
     "output_type": "execute_result"
    }
   ],
   "source": [
    "las2020.header"
   ]
  }
 ],
 "metadata": {
  "kernelspec": {
   "display_name": "Python py311",
   "language": "python",
   "name": "py311"
  },
  "language_info": {
   "codemirror_mode": {
    "name": "ipython",
    "version": 3
   },
   "file_extension": ".py",
   "mimetype": "text/x-python",
   "name": "python",
   "nbconvert_exporter": "python",
   "pygments_lexer": "ipython3",
   "version": "3.11.13"
  },
  "toc": {
   "base_numbering": 1,
   "nav_menu": {},
   "number_sections": true,
   "sideBar": true,
   "skip_h1_title": false,
   "title_cell": "Table of Contents",
   "title_sidebar": "Contents",
   "toc_cell": false,
   "toc_position": {},
   "toc_section_display": true,
   "toc_window_display": false
  },
  "varInspector": {
   "cols": {
    "lenName": 16,
    "lenType": 16,
    "lenVar": 40
   },
   "kernels_config": {
    "python": {
     "delete_cmd_postfix": "",
     "delete_cmd_prefix": "del ",
     "library": "var_list.py",
     "varRefreshCmd": "print(var_dic_list())"
    },
    "r": {
     "delete_cmd_postfix": ") ",
     "delete_cmd_prefix": "rm(",
     "library": "var_list.r",
     "varRefreshCmd": "cat(var_dic_list()) "
    }
   },
   "types_to_exclude": [
    "module",
    "function",
    "builtin_function_or_method",
    "instance",
    "_Feature"
   ],
   "window_display": false
  }
 },
 "nbformat": 4,
 "nbformat_minor": 5
}
