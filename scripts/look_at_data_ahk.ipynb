{
 "cells": [
  {
   "cell_type": "markdown",
   "id": "43c69643",
   "metadata": {},
   "source": [
    "# Look at data\n",
    "Load LAZ → Clean & Filter → Register Epochs → Compute Height Change → Extract Features → Create ML Dataset\n"
   ]
  },
  {
   "cell_type": "code",
   "execution_count": 1,
   "id": "ac575d60",
   "metadata": {
    "ExecuteTime": {
     "end_time": "2025-10-30T15:21:48.401040Z",
     "start_time": "2025-10-30T15:21:46.281944Z"
    },
    "scrolled": true
   },
   "outputs": [
    {
     "name": "stdout",
     "output_type": "stream",
     "text": [
      "\u001b[33mWARNING: Ignoring invalid distribution ~ympy (/opt/conda/envs/py311/lib/python3.11/site-packages)\u001b[0m\u001b[33m\n",
      "\u001b[0m\u001b[33mWARNING: Ignoring invalid distribution ~ympy (/opt/conda/envs/py311/lib/python3.11/site-packages)\u001b[0m\u001b[33m\n",
      "\u001b[0mRequirement already satisfied: torchvision in /opt/conda/envs/py311/lib/python3.11/site-packages (0.20.1+cu121)\n",
      "Requirement already satisfied: torchaudio in /opt/conda/envs/py311/lib/python3.11/site-packages (2.5.1+cu121)\n",
      "Collecting torch-geometric\n",
      "  Downloading torch_geometric-2.7.0-py3-none-any.whl.metadata (63 kB)\n",
      "Requirement already satisfied: numpy in /opt/conda/envs/py311/lib/python3.11/site-packages (from torchvision) (2.1.2)\n",
      "Requirement already satisfied: torch==2.5.1 in /opt/conda/envs/py311/lib/python3.11/site-packages (from torchvision) (2.5.1+cu121)\n",
      "Requirement already satisfied: pillow!=8.3.*,>=5.3.0 in /opt/conda/envs/py311/lib/python3.11/site-packages (from torchvision) (11.0.0)\n",
      "Requirement already satisfied: filelock in /opt/conda/envs/py311/lib/python3.11/site-packages (from torch==2.5.1->torchvision) (3.13.1)\n",
      "Requirement already satisfied: typing-extensions>=4.8.0 in /opt/conda/envs/py311/lib/python3.11/site-packages (from torch==2.5.1->torchvision) (4.12.2)\n",
      "Requirement already satisfied: networkx in /opt/conda/envs/py311/lib/python3.11/site-packages (from torch==2.5.1->torchvision) (3.3)\n",
      "Requirement already satisfied: jinja2 in /opt/conda/envs/py311/lib/python3.11/site-packages (from torch==2.5.1->torchvision) (3.1.6)\n",
      "Requirement already satisfied: fsspec in /opt/conda/envs/py311/lib/python3.11/site-packages (from torch==2.5.1->torchvision) (2024.6.1)\n",
      "Requirement already satisfied: nvidia-cuda-nvrtc-cu12==12.1.105 in /opt/conda/envs/py311/lib/python3.11/site-packages (from torch==2.5.1->torchvision) (12.1.105)\n",
      "Requirement already satisfied: nvidia-cuda-runtime-cu12==12.1.105 in /opt/conda/envs/py311/lib/python3.11/site-packages (from torch==2.5.1->torchvision) (12.1.105)\n",
      "Requirement already satisfied: nvidia-cuda-cupti-cu12==12.1.105 in /opt/conda/envs/py311/lib/python3.11/site-packages (from torch==2.5.1->torchvision) (12.1.105)\n",
      "Requirement already satisfied: nvidia-cudnn-cu12==9.1.0.70 in /opt/conda/envs/py311/lib/python3.11/site-packages (from torch==2.5.1->torchvision) (9.1.0.70)\n",
      "Requirement already satisfied: nvidia-cublas-cu12==12.1.3.1 in /opt/conda/envs/py311/lib/python3.11/site-packages (from torch==2.5.1->torchvision) (12.1.3.1)\n",
      "Requirement already satisfied: nvidia-cufft-cu12==11.0.2.54 in /opt/conda/envs/py311/lib/python3.11/site-packages (from torch==2.5.1->torchvision) (11.0.2.54)\n",
      "Requirement already satisfied: nvidia-curand-cu12==10.3.2.106 in /opt/conda/envs/py311/lib/python3.11/site-packages (from torch==2.5.1->torchvision) (10.3.2.106)\n",
      "Requirement already satisfied: nvidia-cusolver-cu12==11.4.5.107 in /opt/conda/envs/py311/lib/python3.11/site-packages (from torch==2.5.1->torchvision) (11.4.5.107)\n",
      "Requirement already satisfied: nvidia-cusparse-cu12==12.1.0.106 in /opt/conda/envs/py311/lib/python3.11/site-packages (from torch==2.5.1->torchvision) (12.1.0.106)\n",
      "Requirement already satisfied: nvidia-nccl-cu12==2.21.5 in /opt/conda/envs/py311/lib/python3.11/site-packages (from torch==2.5.1->torchvision) (2.21.5)\n",
      "Requirement already satisfied: nvidia-nvtx-cu12==12.1.105 in /opt/conda/envs/py311/lib/python3.11/site-packages (from torch==2.5.1->torchvision) (12.1.105)\n",
      "Requirement already satisfied: triton==3.1.0 in /opt/conda/envs/py311/lib/python3.11/site-packages (from torch==2.5.1->torchvision) (3.1.0)\n",
      "Requirement already satisfied: sympy==1.13.1 in /opt/conda/envs/py311/lib/python3.11/site-packages (from torch==2.5.1->torchvision) (1.13.1)\n",
      "Requirement already satisfied: nvidia-nvjitlink-cu12 in /opt/conda/envs/py311/lib/python3.11/site-packages (from nvidia-cusolver-cu12==11.4.5.107->torch==2.5.1->torchvision) (12.9.86)\n",
      "Requirement already satisfied: mpmath<1.4,>=1.1.0 in /opt/conda/envs/py311/lib/python3.11/site-packages (from sympy==1.13.1->torch==2.5.1->torchvision) (1.3.0)\n",
      "Requirement already satisfied: aiohttp in /opt/conda/envs/py311/lib/python3.11/site-packages (from torch-geometric) (3.12.13)\n",
      "Requirement already satisfied: psutil>=5.8.0 in /opt/conda/envs/py311/lib/python3.11/site-packages (from torch-geometric) (5.9.0)\n",
      "Requirement already satisfied: pyparsing in /opt/conda/envs/py311/lib/python3.11/site-packages (from torch-geometric) (3.2.3)\n",
      "Requirement already satisfied: requests in /opt/conda/envs/py311/lib/python3.11/site-packages (from torch-geometric) (2.32.5)\n",
      "Requirement already satisfied: tqdm in /opt/conda/envs/py311/lib/python3.11/site-packages (from torch-geometric) (4.67.1)\n",
      "Requirement already satisfied: xxhash in /opt/conda/envs/py311/lib/python3.11/site-packages (from torch-geometric) (3.5.0)\n",
      "Requirement already satisfied: aiohappyeyeballs>=2.5.0 in /opt/conda/envs/py311/lib/python3.11/site-packages (from aiohttp->torch-geometric) (2.6.1)\n",
      "Requirement already satisfied: aiosignal>=1.1.2 in /opt/conda/envs/py311/lib/python3.11/site-packages (from aiohttp->torch-geometric) (1.3.2)\n",
      "Requirement already satisfied: attrs>=17.3.0 in /opt/conda/envs/py311/lib/python3.11/site-packages (from aiohttp->torch-geometric) (25.3.0)\n",
      "Requirement already satisfied: frozenlist>=1.1.1 in /opt/conda/envs/py311/lib/python3.11/site-packages (from aiohttp->torch-geometric) (1.7.0)\n",
      "Requirement already satisfied: multidict<7.0,>=4.5 in /opt/conda/envs/py311/lib/python3.11/site-packages (from aiohttp->torch-geometric) (6.6.3)\n",
      "Requirement already satisfied: propcache>=0.2.0 in /opt/conda/envs/py311/lib/python3.11/site-packages (from aiohttp->torch-geometric) (0.3.2)\n",
      "Requirement already satisfied: yarl<2.0,>=1.17.0 in /opt/conda/envs/py311/lib/python3.11/site-packages (from aiohttp->torch-geometric) (1.20.1)\n",
      "Requirement already satisfied: idna>=2.0 in /opt/conda/envs/py311/lib/python3.11/site-packages (from yarl<2.0,>=1.17.0->aiohttp->torch-geometric) (3.7)\n",
      "Requirement already satisfied: charset_normalizer<4,>=2 in /opt/conda/envs/py311/lib/python3.11/site-packages (from requests->torch-geometric) (3.4.3)\n",
      "Requirement already satisfied: urllib3<3,>=1.21.1 in /opt/conda/envs/py311/lib/python3.11/site-packages (from requests->torch-geometric) (2.5.0)\n",
      "Requirement already satisfied: certifi>=2017.4.17 in /opt/conda/envs/py311/lib/python3.11/site-packages (from requests->torch-geometric) (2025.8.3)\n",
      "Downloading torch_geometric-2.7.0-py3-none-any.whl (1.3 MB)\n",
      "\u001b[2K   \u001b[90m━━━━━━━━━━━━━━━━━━━━━━━━━━━━━━━━━━━━━━━━\u001b[0m \u001b[32m1.3/1.3 MB\u001b[0m \u001b[31m75.1 MB/s\u001b[0m  \u001b[33m0:00:00\u001b[0m\n",
      "\u001b[?25h\u001b[33mWARNING: Ignoring invalid distribution ~ympy (/opt/conda/envs/py311/lib/python3.11/site-packages)\u001b[0m\u001b[33m\n",
      "\u001b[0mInstalling collected packages: torch-geometric\n",
      "\u001b[33mWARNING: Ignoring invalid distribution ~ympy (/opt/conda/envs/py311/lib/python3.11/site-packages)\u001b[0m\u001b[33m\n",
      "\u001b[0mSuccessfully installed torch-geometric-2.7.0\n",
      "\u001b[33mWARNING: Running pip as the 'root' user can result in broken permissions and conflicting behaviour with the system package manager, possibly rendering your system unusable. It is recommended to use a virtual environment instead: https://pip.pypa.io/warnings/venv. Use the --root-user-action option if you know what you are doing and want to suppress this warning.\u001b[0m\u001b[33m\n",
      "\u001b[0m\u001b[33mWARNING: Ignoring invalid distribution ~ympy (/opt/conda/envs/py311/lib/python3.11/site-packages)\u001b[0m\u001b[33m\n",
      "\u001b[0m\u001b[33mWARNING: Ignoring invalid distribution ~ympy (/opt/conda/envs/py311/lib/python3.11/site-packages)\u001b[0m\u001b[33m\n",
      "\u001b[0m"
     ]
    }
   ],
   "source": [
    "import sys\n",
    "# !{sys.executable} -m pip install py4dgeo --no-cache-dir \n",
    "# !{sys.executable} -m pip install polyscope\n",
    "# !{sys.executable} -m pip install 'laspy[laszip]'\n",
    "# !{sys.executable} -m pip install pyproj==3.6.1 geopandas open3d \n",
    "# !{sys.executable} -m pip install 'laspy[laszip]'\n",
    "# !{sys.executable} -m pip install --upgrade pip setuptools wheel\n",
    "# !{sys.executable} -m pip install pdal\n",
    "!{sys.executable} -m pip install torchvision torchaudio torch-geometric"
   ]
  },
  {
   "cell_type": "code",
   "execution_count": 5,
   "id": "1b027f9d",
   "metadata": {
    "ExecuteTime": {
     "end_time": "2025-10-30T00:10:24.131013Z",
     "start_time": "2025-10-30T00:10:19.079713Z"
    }
   },
   "outputs": [],
   "source": [
    "# # import required modules\n",
    "# import os\n",
    "# # import py4dgeo\n",
    "# import numpy as np\n",
    "# import matplotlib.pyplot as plt\n",
    "# import matplotlib.dates as mdates\n",
    "# from datetime import datetime, timedelta\n",
    "\n",
    "# # add the script assets folder to the path, so that we can import the functions created there\n",
    "# import sys\n",
    "# from pathlib import Path\n",
    "# sys.path.insert(0, str((Path.cwd() / \"..\" / \"utils\").resolve()))\n",
    "\n",
    "# # import point cloud functions\n",
    "# import pointcloud_functions as pcfuncs\n",
    "\n",
    "# # specify the data path\n",
    "# data_dir = '../raw_data/ahk'\n",
    "\n",
    "# # check if the data path exists\n",
    "# if not os.path.exists(data_dir):\n",
    "#     raise Exception('Data path does not exist. Please make sure to specify the correct path.')\n",
    "\n",
    "# # derive the file paths and read in the data\n",
    "# pc_file_2020 = f'{data_dir}/ahk_2020_uls.laz'\n",
    "# pc_file_2021 = f'{data_dir}/ahk_2021_uls.laz'\n",
    "\n",
    "# # read the point clouds into numpy arrays\n",
    "# pc_2020 = pcfuncs.read_las(pc_file_2020)\n",
    "# pc_2021 = pcfuncs.read_las(pc_file_2021)"
   ]
  },
  {
   "cell_type": "code",
   "execution_count": 8,
   "id": "472a0a70",
   "metadata": {
    "ExecuteTime": {
     "end_time": "2025-10-30T00:10:37.923180Z",
     "start_time": "2025-10-30T00:10:37.912609Z"
    }
   },
   "outputs": [
    {
     "data": {
      "text/plain": [
       "array([[6.52793855e+05, 5.18879120e+06, 2.61195270e+03],\n",
       "       [6.52793855e+05, 5.18879132e+06, 2.61194870e+03],\n",
       "       [6.52793761e+05, 5.18879146e+06, 2.61185260e+03],\n",
       "       ...,\n",
       "       [6.52929120e+05, 5.18943189e+06, 2.39848610e+03],\n",
       "       [6.52929069e+05, 5.18943141e+06, 2.39876260e+03],\n",
       "       [6.52929410e+05, 5.18943127e+06, 2.39874820e+03]])"
      ]
     },
     "execution_count": 8,
     "metadata": {},
     "output_type": "execute_result"
    }
   ],
   "source": [
    "# pc_2021"
   ]
  },
  {
   "cell_type": "code",
   "execution_count": 7,
   "id": "6fe5668e",
   "metadata": {
    "ExecuteTime": {
     "end_time": "2025-10-30T00:10:30.871598Z",
     "start_time": "2025-10-30T00:10:30.862117Z"
    }
   },
   "outputs": [
    {
     "data": {
      "text/plain": [
       "((37426631, 3), (45662285, 3))"
      ]
     },
     "execution_count": 7,
     "metadata": {},
     "output_type": "execute_result"
    }
   ],
   "source": [
    "# pc_2020.shape, pc_2021.shape"
   ]
  },
  {
   "cell_type": "code",
   "execution_count": 24,
   "id": "1fe3d5d6",
   "metadata": {
    "ExecuteTime": {
     "end_time": "2025-10-30T00:23:35.334536Z",
     "start_time": "2025-10-30T00:23:34.079294Z"
    }
   },
   "outputs": [
    {
     "ename": "NameError",
     "evalue": "name 'o3d' is not defined",
     "output_type": "error",
     "traceback": [
      "\u001b[31m---------------------------------------------------------------------------\u001b[39m",
      "\u001b[31mNameError\u001b[39m                                 Traceback (most recent call last)",
      "\u001b[36mCell\u001b[39m\u001b[36m \u001b[39m\u001b[32mIn[24]\u001b[39m\u001b[32m, line 27\u001b[39m\n\u001b[32m     22\u001b[39m pts2020 = np.vstack([las2020.x, las2020.y, las2020.z]).T \n\u001b[32m     23\u001b[39m \u001b[38;5;66;03m# mask = [stable_area.contains(Point(x, y)).any() for x, y in zip(las2020.x, las2020.y)]\u001b[39;00m\n\u001b[32m     24\u001b[39m \n\u001b[32m     25\u001b[39m \n\u001b[32m     26\u001b[39m \u001b[38;5;66;03m# Registration (Align Epochs)\u001b[39;00m\n\u001b[32m---> \u001b[39m\u001b[32m27\u001b[39m pcd_2020 = o3d.io.read_point_cloud(\u001b[33m\"\u001b[39m\u001b[33mahk_2020_uls.laz\u001b[39m\u001b[33m\"\u001b[39m)\n\u001b[32m     28\u001b[39m pcd_2021 = o3d.io.read_point_cloud(\u001b[33m\"\u001b[39m\u001b[33mahk_2021_uls.laz\u001b[39m\u001b[33m\"\u001b[39m)\n\u001b[32m     30\u001b[39m \u001b[38;5;66;03m# Perform ICP to align 2020 → 2021\u001b[39;00m\n",
      "\u001b[31mNameError\u001b[39m: name 'o3d' is not defined"
     ]
    }
   ],
   "source": [
    "import laspy\n",
    "import numpy as np\n",
    "import geopandas as gpd\n",
    "from shapely.geometry import Point\n",
    "import open3d as o3d\n",
    "\n",
    "data_dir = '../raw_data/ahk'\n",
    "pc_file_2020 = f'{data_dir}/ahk_2020_uls.laz'\n",
    "pc_file_2021 = f'{data_dir}/ahk_2021_uls.laz'\n",
    "\n",
    "# Load and Inspect Point Clouds\n",
    "las2020 = laspy.read(pc_file_2020)\n",
    "las2021 = laspy.read(pc_file_2021)\n",
    "print(las2020.header)\n",
    "print(las2021.header)\n",
    "\n",
    "# Clip to Stable Parts (Using SHP)\n",
    "stable_area = gpd.read_file(f\"{data_dir}/ahk_2021_uls_stableparts.shp\")\n",
    "stable_area = stable_area.set_crs(\"EPSG:32632\") # is missing in shp package; according to https://3dgeo-heidelberg.github.io/etrainee/data_usecases/usecase_rockglacier_ahk.html\n",
    "\n",
    "# Filter points within the stable polygon\n",
    "pts2020 = np.vstack([las2020.x, las2020.y, las2020.z]).T \n",
    "# mask = [stable_area.contains(Point(x, y)).any() for x, y in zip(las2020.x, las2020.y)]\n",
    "\n",
    "\n",
    "# Registration (Align Epochs)\n",
    "pcd_2020 = o3d.io.read_point_cloud(\"ahk_2020_uls.laz\")\n",
    "pcd_2021 = o3d.io.read_point_cloud(\"ahk_2021_uls.laz\")\n",
    "\n",
    "# Perform ICP to align 2020 → 2021\n",
    "reg = o3d.pipelines.registration.registration_icp(\n",
    "    pcd_2020, pcd_2021, 0.5, np.eye(4),\n",
    "    o3d.pipelines.registration.TransformationEstimationPointToPlane()\n",
    ")\n",
    "pcd_2020.transform(reg.transformation)\n"
   ]
  },
  {
   "cell_type": "code",
   "execution_count": 12,
   "id": "c93703e5",
   "metadata": {
    "ExecuteTime": {
     "end_time": "2025-10-30T00:11:33.064026Z",
     "start_time": "2025-10-30T00:11:33.053927Z"
    }
   },
   "outputs": [
    {
     "data": {
      "text/plain": [
       "<LasHeader(1.1, <PointFormat(1, 0 bytes of extra dims)>)>"
      ]
     },
     "execution_count": 12,
     "metadata": {},
     "output_type": "execute_result"
    }
   ],
   "source": [
    "las2020.header"
   ]
  }
 ],
 "metadata": {
  "kernelspec": {
   "display_name": "Python py311",
   "language": "python",
   "name": "py311"
  },
  "language_info": {
   "codemirror_mode": {
    "name": "ipython",
    "version": 3
   },
   "file_extension": ".py",
   "mimetype": "text/x-python",
   "name": "python",
   "nbconvert_exporter": "python",
   "pygments_lexer": "ipython3",
   "version": "3.11.13"
  },
  "toc": {
   "base_numbering": 1,
   "nav_menu": {},
   "number_sections": true,
   "sideBar": true,
   "skip_h1_title": false,
   "title_cell": "Table of Contents",
   "title_sidebar": "Contents",
   "toc_cell": false,
   "toc_position": {},
   "toc_section_display": true,
   "toc_window_display": false
  },
  "varInspector": {
   "cols": {
    "lenName": 16,
    "lenType": 16,
    "lenVar": 40
   },
   "kernels_config": {
    "python": {
     "delete_cmd_postfix": "",
     "delete_cmd_prefix": "del ",
     "library": "var_list.py",
     "varRefreshCmd": "print(var_dic_list())"
    },
    "r": {
     "delete_cmd_postfix": ") ",
     "delete_cmd_prefix": "rm(",
     "library": "var_list.r",
     "varRefreshCmd": "cat(var_dic_list()) "
    }
   },
   "types_to_exclude": [
    "module",
    "function",
    "builtin_function_or_method",
    "instance",
    "_Feature"
   ],
   "window_display": false
  }
 },
 "nbformat": 4,
 "nbformat_minor": 5
}
